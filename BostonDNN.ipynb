{
  "nbformat": 4,
  "nbformat_minor": 0,
  "metadata": {
    "colab": {
      "name": "BostonDNN.ipynb",
      "version": "0.3.2",
      "provenance": [],
      "collapsed_sections": []
    },
    "kernelspec": {
      "name": "python3",
      "display_name": "Python 3"
    }
  },
  "cells": [
    {
      "cell_type": "markdown",
      "metadata": {
        "id": "rgOPryuCPF0S",
        "colab_type": "text"
      },
      "source": [
        "# Machine Learning CA2"
      ]
    },
    {
      "cell_type": "markdown",
      "metadata": {
        "id": "jQcTLXF7tzie",
        "colab_type": "text"
      },
      "source": [
        "# **Boston Housing Dataset - Neural Network using TensorFlow**"
      ]
    },
    {
      "cell_type": "markdown",
      "metadata": {
        "id": "0NAZ3zwFuFsu",
        "colab_type": "text"
      },
      "source": [
        "## **1. Import Dependencies**"
      ]
    },
    {
      "cell_type": "code",
      "metadata": {
        "id": "RNi_OMIl_vVt",
        "colab_type": "code",
        "colab": {}
      },
      "source": [
        "\n",
        "import numpy as np\n",
        "import pandas as pd\n",
        "from sklearn.datasets import load_boston\n",
        "import tensorflow as tf\n",
        "import matplotlib.pyplot as plt\n",
        "%matplotlib inline\n",
        "import random"
      ],
      "execution_count": 0,
      "outputs": []
    },
    {
      "cell_type": "markdown",
      "metadata": {
        "id": "cHL7rDgKwJze",
        "colab_type": "text"
      },
      "source": [
        "##  2. Load Dataset"
      ]
    },
    {
      "cell_type": "code",
      "metadata": {
        "id": "ItZUJSBlkOl0",
        "colab_type": "code",
        "colab": {}
      },
      "source": [
        "boston = load_boston()"
      ],
      "execution_count": 0,
      "outputs": []
    },
    {
      "cell_type": "markdown",
      "metadata": {
        "id": "c8B8NuROwxFf",
        "colab_type": "text"
      },
      "source": [
        "## 3. Seperate Data into Features and Labels and load them as a Pandas Dataframe"
      ]
    },
    {
      "cell_type": "markdown",
      "metadata": {
        "id": "gqiWjlPaw0kq",
        "colab_type": "text"
      },
      "source": [
        "### 3.1 Features"
      ]
    },
    {
      "cell_type": "code",
      "metadata": {
        "id": "FLfT-TdEjSQg",
        "colab_type": "code",
        "outputId": "2e2c5690-b4f1-4d47-e1a5-cbfab4d3ac36",
        "colab": {
          "base_uri": "https://localhost:8080/",
          "height": 204
        }
      },
      "source": [
        "features_df = pd.DataFrame(np.array(boston.data), columns=[boston.feature_names])\n",
        "features_df.head()"
      ],
      "execution_count": 0,
      "outputs": [
        {
          "output_type": "execute_result",
          "data": {
            "text/html": [
              "<div>\n",
              "<style scoped>\n",
              "    .dataframe tbody tr th:only-of-type {\n",
              "        vertical-align: middle;\n",
              "    }\n",
              "\n",
              "    .dataframe tbody tr th {\n",
              "        vertical-align: top;\n",
              "    }\n",
              "\n",
              "    .dataframe thead tr th {\n",
              "        text-align: left;\n",
              "    }\n",
              "</style>\n",
              "<table border=\"1\" class=\"dataframe\">\n",
              "  <thead>\n",
              "    <tr>\n",
              "      <th></th>\n",
              "      <th>CRIM</th>\n",
              "      <th>ZN</th>\n",
              "      <th>INDUS</th>\n",
              "      <th>CHAS</th>\n",
              "      <th>NOX</th>\n",
              "      <th>RM</th>\n",
              "      <th>AGE</th>\n",
              "      <th>DIS</th>\n",
              "      <th>RAD</th>\n",
              "      <th>TAX</th>\n",
              "      <th>PTRATIO</th>\n",
              "      <th>B</th>\n",
              "      <th>LSTAT</th>\n",
              "    </tr>\n",
              "  </thead>\n",
              "  <tbody>\n",
              "    <tr>\n",
              "      <th>0</th>\n",
              "      <td>0.00632</td>\n",
              "      <td>18.0</td>\n",
              "      <td>2.31</td>\n",
              "      <td>0.0</td>\n",
              "      <td>0.538</td>\n",
              "      <td>6.575</td>\n",
              "      <td>65.2</td>\n",
              "      <td>4.0900</td>\n",
              "      <td>1.0</td>\n",
              "      <td>296.0</td>\n",
              "      <td>15.3</td>\n",
              "      <td>396.90</td>\n",
              "      <td>4.98</td>\n",
              "    </tr>\n",
              "    <tr>\n",
              "      <th>1</th>\n",
              "      <td>0.02731</td>\n",
              "      <td>0.0</td>\n",
              "      <td>7.07</td>\n",
              "      <td>0.0</td>\n",
              "      <td>0.469</td>\n",
              "      <td>6.421</td>\n",
              "      <td>78.9</td>\n",
              "      <td>4.9671</td>\n",
              "      <td>2.0</td>\n",
              "      <td>242.0</td>\n",
              "      <td>17.8</td>\n",
              "      <td>396.90</td>\n",
              "      <td>9.14</td>\n",
              "    </tr>\n",
              "    <tr>\n",
              "      <th>2</th>\n",
              "      <td>0.02729</td>\n",
              "      <td>0.0</td>\n",
              "      <td>7.07</td>\n",
              "      <td>0.0</td>\n",
              "      <td>0.469</td>\n",
              "      <td>7.185</td>\n",
              "      <td>61.1</td>\n",
              "      <td>4.9671</td>\n",
              "      <td>2.0</td>\n",
              "      <td>242.0</td>\n",
              "      <td>17.8</td>\n",
              "      <td>392.83</td>\n",
              "      <td>4.03</td>\n",
              "    </tr>\n",
              "    <tr>\n",
              "      <th>3</th>\n",
              "      <td>0.03237</td>\n",
              "      <td>0.0</td>\n",
              "      <td>2.18</td>\n",
              "      <td>0.0</td>\n",
              "      <td>0.458</td>\n",
              "      <td>6.998</td>\n",
              "      <td>45.8</td>\n",
              "      <td>6.0622</td>\n",
              "      <td>3.0</td>\n",
              "      <td>222.0</td>\n",
              "      <td>18.7</td>\n",
              "      <td>394.63</td>\n",
              "      <td>2.94</td>\n",
              "    </tr>\n",
              "    <tr>\n",
              "      <th>4</th>\n",
              "      <td>0.06905</td>\n",
              "      <td>0.0</td>\n",
              "      <td>2.18</td>\n",
              "      <td>0.0</td>\n",
              "      <td>0.458</td>\n",
              "      <td>7.147</td>\n",
              "      <td>54.2</td>\n",
              "      <td>6.0622</td>\n",
              "      <td>3.0</td>\n",
              "      <td>222.0</td>\n",
              "      <td>18.7</td>\n",
              "      <td>396.90</td>\n",
              "      <td>5.33</td>\n",
              "    </tr>\n",
              "  </tbody>\n",
              "</table>\n",
              "</div>"
            ],
            "text/plain": [
              "      CRIM    ZN INDUS CHAS    NOX  ...  RAD    TAX PTRATIO       B LSTAT\n",
              "0  0.00632  18.0  2.31  0.0  0.538  ...  1.0  296.0    15.3  396.90  4.98\n",
              "1  0.02731   0.0  7.07  0.0  0.469  ...  2.0  242.0    17.8  396.90  9.14\n",
              "2  0.02729   0.0  7.07  0.0  0.469  ...  2.0  242.0    17.8  392.83  4.03\n",
              "3  0.03237   0.0  2.18  0.0  0.458  ...  3.0  222.0    18.7  394.63  2.94\n",
              "4  0.06905   0.0  2.18  0.0  0.458  ...  3.0  222.0    18.7  396.90  5.33\n",
              "\n",
              "[5 rows x 13 columns]"
            ]
          },
          "metadata": {
            "tags": []
          },
          "execution_count": 721
        }
      ]
    },
    {
      "cell_type": "markdown",
      "metadata": {
        "id": "rbCNcZCUw-aj",
        "colab_type": "text"
      },
      "source": [
        "### 3.2 Labels"
      ]
    },
    {
      "cell_type": "code",
      "metadata": {
        "id": "9uOsyh_SeZPi",
        "colab_type": "code",
        "outputId": "36a5280d-7518-4c48-af30-92307b4812d5",
        "colab": {
          "base_uri": "https://localhost:8080/",
          "height": 204
        }
      },
      "source": [
        "labels_df = pd.DataFrame(np.array(boston.target), columns=['labels'])\n",
        "labels_df.head()"
      ],
      "execution_count": 0,
      "outputs": [
        {
          "output_type": "execute_result",
          "data": {
            "text/html": [
              "<div>\n",
              "<style scoped>\n",
              "    .dataframe tbody tr th:only-of-type {\n",
              "        vertical-align: middle;\n",
              "    }\n",
              "\n",
              "    .dataframe tbody tr th {\n",
              "        vertical-align: top;\n",
              "    }\n",
              "\n",
              "    .dataframe thead th {\n",
              "        text-align: right;\n",
              "    }\n",
              "</style>\n",
              "<table border=\"1\" class=\"dataframe\">\n",
              "  <thead>\n",
              "    <tr style=\"text-align: right;\">\n",
              "      <th></th>\n",
              "      <th>labels</th>\n",
              "    </tr>\n",
              "  </thead>\n",
              "  <tbody>\n",
              "    <tr>\n",
              "      <th>0</th>\n",
              "      <td>24.0</td>\n",
              "    </tr>\n",
              "    <tr>\n",
              "      <th>1</th>\n",
              "      <td>21.6</td>\n",
              "    </tr>\n",
              "    <tr>\n",
              "      <th>2</th>\n",
              "      <td>34.7</td>\n",
              "    </tr>\n",
              "    <tr>\n",
              "      <th>3</th>\n",
              "      <td>33.4</td>\n",
              "    </tr>\n",
              "    <tr>\n",
              "      <th>4</th>\n",
              "      <td>36.2</td>\n",
              "    </tr>\n",
              "  </tbody>\n",
              "</table>\n",
              "</div>"
            ],
            "text/plain": [
              "   labels\n",
              "0    24.0\n",
              "1    21.6\n",
              "2    34.7\n",
              "3    33.4\n",
              "4    36.2"
            ]
          },
          "metadata": {
            "tags": []
          },
          "execution_count": 722
        }
      ]
    },
    {
      "cell_type": "markdown",
      "metadata": {
        "id": "N6IkEbPYxE6Y",
        "colab_type": "text"
      },
      "source": [
        "### 3.3 Combined Data"
      ]
    },
    {
      "cell_type": "code",
      "metadata": {
        "id": "TlfIlTRirF7m",
        "colab_type": "code",
        "outputId": "c0c402f1-9217-4683-8287-0f6df4f4f496",
        "colab": {
          "base_uri": "https://localhost:8080/",
          "height": 204
        }
      },
      "source": [
        "# \n",
        "combined_data = pd.concat([features_df,labels_df], axis=1)\n",
        "combined_data.head()"
      ],
      "execution_count": 0,
      "outputs": [
        {
          "output_type": "execute_result",
          "data": {
            "text/html": [
              "<div>\n",
              "<style scoped>\n",
              "    .dataframe tbody tr th:only-of-type {\n",
              "        vertical-align: middle;\n",
              "    }\n",
              "\n",
              "    .dataframe tbody tr th {\n",
              "        vertical-align: top;\n",
              "    }\n",
              "\n",
              "    .dataframe thead th {\n",
              "        text-align: right;\n",
              "    }\n",
              "</style>\n",
              "<table border=\"1\" class=\"dataframe\">\n",
              "  <thead>\n",
              "    <tr style=\"text-align: right;\">\n",
              "      <th></th>\n",
              "      <th>(CRIM,)</th>\n",
              "      <th>(ZN,)</th>\n",
              "      <th>(INDUS,)</th>\n",
              "      <th>(CHAS,)</th>\n",
              "      <th>(NOX,)</th>\n",
              "      <th>(RM,)</th>\n",
              "      <th>(AGE,)</th>\n",
              "      <th>(DIS,)</th>\n",
              "      <th>(RAD,)</th>\n",
              "      <th>(TAX,)</th>\n",
              "      <th>(PTRATIO,)</th>\n",
              "      <th>(B,)</th>\n",
              "      <th>(LSTAT,)</th>\n",
              "      <th>labels</th>\n",
              "    </tr>\n",
              "  </thead>\n",
              "  <tbody>\n",
              "    <tr>\n",
              "      <th>0</th>\n",
              "      <td>0.00632</td>\n",
              "      <td>18.0</td>\n",
              "      <td>2.31</td>\n",
              "      <td>0.0</td>\n",
              "      <td>0.538</td>\n",
              "      <td>6.575</td>\n",
              "      <td>65.2</td>\n",
              "      <td>4.0900</td>\n",
              "      <td>1.0</td>\n",
              "      <td>296.0</td>\n",
              "      <td>15.3</td>\n",
              "      <td>396.90</td>\n",
              "      <td>4.98</td>\n",
              "      <td>24.0</td>\n",
              "    </tr>\n",
              "    <tr>\n",
              "      <th>1</th>\n",
              "      <td>0.02731</td>\n",
              "      <td>0.0</td>\n",
              "      <td>7.07</td>\n",
              "      <td>0.0</td>\n",
              "      <td>0.469</td>\n",
              "      <td>6.421</td>\n",
              "      <td>78.9</td>\n",
              "      <td>4.9671</td>\n",
              "      <td>2.0</td>\n",
              "      <td>242.0</td>\n",
              "      <td>17.8</td>\n",
              "      <td>396.90</td>\n",
              "      <td>9.14</td>\n",
              "      <td>21.6</td>\n",
              "    </tr>\n",
              "    <tr>\n",
              "      <th>2</th>\n",
              "      <td>0.02729</td>\n",
              "      <td>0.0</td>\n",
              "      <td>7.07</td>\n",
              "      <td>0.0</td>\n",
              "      <td>0.469</td>\n",
              "      <td>7.185</td>\n",
              "      <td>61.1</td>\n",
              "      <td>4.9671</td>\n",
              "      <td>2.0</td>\n",
              "      <td>242.0</td>\n",
              "      <td>17.8</td>\n",
              "      <td>392.83</td>\n",
              "      <td>4.03</td>\n",
              "      <td>34.7</td>\n",
              "    </tr>\n",
              "    <tr>\n",
              "      <th>3</th>\n",
              "      <td>0.03237</td>\n",
              "      <td>0.0</td>\n",
              "      <td>2.18</td>\n",
              "      <td>0.0</td>\n",
              "      <td>0.458</td>\n",
              "      <td>6.998</td>\n",
              "      <td>45.8</td>\n",
              "      <td>6.0622</td>\n",
              "      <td>3.0</td>\n",
              "      <td>222.0</td>\n",
              "      <td>18.7</td>\n",
              "      <td>394.63</td>\n",
              "      <td>2.94</td>\n",
              "      <td>33.4</td>\n",
              "    </tr>\n",
              "    <tr>\n",
              "      <th>4</th>\n",
              "      <td>0.06905</td>\n",
              "      <td>0.0</td>\n",
              "      <td>2.18</td>\n",
              "      <td>0.0</td>\n",
              "      <td>0.458</td>\n",
              "      <td>7.147</td>\n",
              "      <td>54.2</td>\n",
              "      <td>6.0622</td>\n",
              "      <td>3.0</td>\n",
              "      <td>222.0</td>\n",
              "      <td>18.7</td>\n",
              "      <td>396.90</td>\n",
              "      <td>5.33</td>\n",
              "      <td>36.2</td>\n",
              "    </tr>\n",
              "  </tbody>\n",
              "</table>\n",
              "</div>"
            ],
            "text/plain": [
              "   (CRIM,)  (ZN,)  (INDUS,)  (CHAS,)  ...  (PTRATIO,)    (B,)  (LSTAT,)  labels\n",
              "0  0.00632   18.0      2.31      0.0  ...        15.3  396.90      4.98    24.0\n",
              "1  0.02731    0.0      7.07      0.0  ...        17.8  396.90      9.14    21.6\n",
              "2  0.02729    0.0      7.07      0.0  ...        17.8  392.83      4.03    34.7\n",
              "3  0.03237    0.0      2.18      0.0  ...        18.7  394.63      2.94    33.4\n",
              "4  0.06905    0.0      2.18      0.0  ...        18.7  396.90      5.33    36.2\n",
              "\n",
              "[5 rows x 14 columns]"
            ]
          },
          "metadata": {
            "tags": []
          },
          "execution_count": 723
        }
      ]
    },
    {
      "cell_type": "markdown",
      "metadata": {
        "id": "h2mnEjSexKFR",
        "colab_type": "text"
      },
      "source": [
        "## 4. Train Test Split"
      ]
    },
    {
      "cell_type": "markdown",
      "metadata": {
        "id": "rzdTJPgOxUSd",
        "colab_type": "text"
      },
      "source": [
        "### 4.1 Import Library"
      ]
    },
    {
      "cell_type": "code",
      "metadata": {
        "id": "FBqkq_d2kBUF",
        "colab_type": "code",
        "colab": {}
      },
      "source": [
        "from sklearn.model_selection import train_test_split"
      ],
      "execution_count": 0,
      "outputs": []
    },
    {
      "cell_type": "markdown",
      "metadata": {
        "id": "bnHwZebjxdFJ",
        "colab_type": "text"
      },
      "source": [
        "### 4.2  Train Test Split\n",
        "### Training Data = 80% of Dataset\n",
        "### Test Data = 20% of Dataset"
      ]
    },
    {
      "cell_type": "code",
      "metadata": {
        "id": "Dxe16roeqzn-",
        "colab_type": "code",
        "colab": {}
      },
      "source": [
        "random.seed( 1000 )\n",
        "X_train, X_test, y_train, y_test = train_test_split(features_df, labels_df, test_size=0.2)"
      ],
      "execution_count": 0,
      "outputs": []
    },
    {
      "cell_type": "markdown",
      "metadata": {
        "id": "JXvOWicKxptn",
        "colab_type": "text"
      },
      "source": [
        "## 5. Data Pre-Processing"
      ]
    },
    {
      "cell_type": "markdown",
      "metadata": {
        "id": "wZQsiPTzyQfq",
        "colab_type": "text"
      },
      "source": [
        "### 5.1 Import Library"
      ]
    },
    {
      "cell_type": "code",
      "metadata": {
        "id": "j_WIOB7Jq3Z2",
        "colab_type": "code",
        "colab": {}
      },
      "source": [
        "from sklearn.preprocessing import StandardScaler"
      ],
      "execution_count": 0,
      "outputs": []
    },
    {
      "cell_type": "markdown",
      "metadata": {
        "id": "L5qwIerq1_cj",
        "colab_type": "text"
      },
      "source": [
        "### 5.2 Train Data"
      ]
    },
    {
      "cell_type": "markdown",
      "metadata": {
        "id": "szJcpXyRxzu0",
        "colab_type": "text"
      },
      "source": [
        "### 5.2.1  Define the Preprocessing Method and Fit Training Data to it"
      ]
    },
    {
      "cell_type": "code",
      "metadata": {
        "id": "qg70RxwBtxLV",
        "colab_type": "code",
        "outputId": "cf092a30-e228-4b40-c8ad-ebff94eb3fcb",
        "colab": {
          "base_uri": "https://localhost:8080/",
          "height": 34
        }
      },
      "source": [
        "scaler = StandardScaler()\n",
        "scaler.fit(X_train)"
      ],
      "execution_count": 0,
      "outputs": [
        {
          "output_type": "execute_result",
          "data": {
            "text/plain": [
              "StandardScaler(copy=True, with_mean=True, with_std=True)"
            ]
          },
          "metadata": {
            "tags": []
          },
          "execution_count": 727
        }
      ]
    },
    {
      "cell_type": "markdown",
      "metadata": {
        "id": "72aSgNscyroE",
        "colab_type": "text"
      },
      "source": [
        "### 5.2.2. Make X_train to be the Scaled Version of Data\n",
        "#### This process scales all the values in all 6 columns and replaces them with the new values"
      ]
    },
    {
      "cell_type": "code",
      "metadata": {
        "id": "da9CvIVzt0hs",
        "colab_type": "code",
        "colab": {}
      },
      "source": [
        "X_train = pd.DataFrame(data=scaler.transform(X_train), columns=X_train.columns, index=X_train.index)"
      ],
      "execution_count": 0,
      "outputs": []
    },
    {
      "cell_type": "markdown",
      "metadata": {
        "id": "NumUzEVLzUQG",
        "colab_type": "text"
      },
      "source": [
        "### 5.2.3. Converting from Pandas Dataframe to Numpy Arrays"
      ]
    },
    {
      "cell_type": "code",
      "metadata": {
        "id": "FePa_Sf0q67V",
        "colab_type": "code",
        "colab": {}
      },
      "source": [
        "X_train = np.array(X_train)\n",
        "y_train = np.array(y_train)"
      ],
      "execution_count": 0,
      "outputs": []
    },
    {
      "cell_type": "markdown",
      "metadata": {
        "id": "oQHx3ya002Ui",
        "colab_type": "text"
      },
      "source": [
        "### 5.2.4. Get the Type of Training Data"
      ]
    },
    {
      "cell_type": "code",
      "metadata": {
        "id": "oVshZuE5q3bL",
        "colab_type": "code",
        "outputId": "394ba0fd-d724-4933-af44-fe11c1cfc71b",
        "colab": {
          "base_uri": "https://localhost:8080/",
          "height": 34
        }
      },
      "source": [
        "type(X_train), type(y_train)"
      ],
      "execution_count": 0,
      "outputs": [
        {
          "output_type": "execute_result",
          "data": {
            "text/plain": [
              "(numpy.ndarray, numpy.ndarray)"
            ]
          },
          "metadata": {
            "tags": []
          },
          "execution_count": 730
        }
      ]
    },
    {
      "cell_type": "markdown",
      "metadata": {
        "id": "bbda58CZ1A0o",
        "colab_type": "text"
      },
      "source": [
        "### 5.3. Test Data"
      ]
    },
    {
      "cell_type": "markdown",
      "metadata": {
        "id": "2L0PQ1vv2inC",
        "colab_type": "text"
      },
      "source": [
        "### 5.3.1 Define the Preprocessing Method and Fit Test Data to it"
      ]
    },
    {
      "cell_type": "code",
      "metadata": {
        "id": "7OO2HVl1q6N5",
        "colab_type": "code",
        "outputId": "b15fa68e-37cd-4bb0-8e44-ae8f1d96d017",
        "colab": {
          "base_uri": "https://localhost:8080/",
          "height": 34
        }
      },
      "source": [
        "scal = StandardScaler()\n",
        "scal.fit(X_test)"
      ],
      "execution_count": 0,
      "outputs": [
        {
          "output_type": "execute_result",
          "data": {
            "text/plain": [
              "StandardScaler(copy=True, with_mean=True, with_std=True)"
            ]
          },
          "metadata": {
            "tags": []
          },
          "execution_count": 731
        }
      ]
    },
    {
      "cell_type": "markdown",
      "metadata": {
        "id": "p8Rsx1d01Jx1",
        "colab_type": "text"
      },
      "source": [
        "### 5.3.2. Make X_test to be the Scaled Version of Data\n",
        "#### This process scales all the values in all columns and replaces them with the new values"
      ]
    },
    {
      "cell_type": "code",
      "metadata": {
        "id": "yyxYSS23eblQ",
        "colab_type": "code",
        "colab": {}
      },
      "source": [
        "X_test = pd.DataFrame(data=scal.transform(X_test), columns=X_test.columns, index=X_test.index)"
      ],
      "execution_count": 0,
      "outputs": []
    },
    {
      "cell_type": "markdown",
      "metadata": {
        "id": "NHQwJWeh1Y5B",
        "colab_type": "text"
      },
      "source": [
        "### 5.3.3. Converting from Pandas Dataframe to Numpy Arrays"
      ]
    },
    {
      "cell_type": "code",
      "metadata": {
        "id": "6FpqYE8d_5Qr",
        "colab_type": "code",
        "colab": {}
      },
      "source": [
        "X_test = np.array(X_test)\n",
        "y_test = np.array(y_test)"
      ],
      "execution_count": 0,
      "outputs": []
    },
    {
      "cell_type": "markdown",
      "metadata": {
        "id": "LiXzuaSh1ks1",
        "colab_type": "text"
      },
      "source": [
        "### 5.3.4. Get the Type of Test Data"
      ]
    },
    {
      "cell_type": "code",
      "metadata": {
        "id": "uotNbM9TsE4J",
        "colab_type": "code",
        "outputId": "c7e974f3-f299-4cc4-8655-8c47f4cd7137",
        "colab": {
          "base_uri": "https://localhost:8080/",
          "height": 34
        }
      },
      "source": [
        "type(X_test), type(y_test)"
      ],
      "execution_count": 0,
      "outputs": [
        {
          "output_type": "execute_result",
          "data": {
            "text/plain": [
              "(numpy.ndarray, numpy.ndarray)"
            ]
          },
          "metadata": {
            "tags": []
          },
          "execution_count": 734
        }
      ]
    },
    {
      "cell_type": "markdown",
      "metadata": {
        "id": "7RbZwrXw1pWk",
        "colab_type": "text"
      },
      "source": [
        "### 5.4. Define Feature Columns"
      ]
    },
    {
      "cell_type": "code",
      "metadata": {
        "id": "DeUtxvlOudFe",
        "colab_type": "code",
        "outputId": "9a2f0868-c5f7-489c-8b20-d7e0ba469b51",
        "colab": {
          "base_uri": "https://localhost:8080/",
          "height": 51
        }
      },
      "source": [
        "features_df.columns"
      ],
      "execution_count": 0,
      "outputs": [
        {
          "output_type": "execute_result",
          "data": {
            "text/plain": [
              "MultiIndex(levels=[['AGE', 'B', 'CHAS', 'CRIM', 'DIS', 'INDUS', 'LSTAT', 'NOX', 'PTRATIO', 'RAD', 'RM', 'TAX', 'ZN']],\n",
              "           codes=[[3, 12, 5, 2, 7, 10, 0, 4, 9, 11, 8, 1, 6]])"
            ]
          },
          "metadata": {
            "tags": []
          },
          "execution_count": 735
        }
      ]
    },
    {
      "cell_type": "code",
      "metadata": {
        "id": "_Q6vBlPbo3v6",
        "colab_type": "code",
        "colab": {}
      },
      "source": [
        "# Make Feature Columns\n",
        "feat_cols = [tf.feature_column.numeric_column('x', shape=np.array(X_train).shape[1:])]"
      ],
      "execution_count": 0,
      "outputs": []
    },
    {
      "cell_type": "markdown",
      "metadata": {
        "id": "0yxzzzYQ3zZA",
        "colab_type": "text"
      },
      "source": [
        "### 5.5. Define Input Fuction"
      ]
    },
    {
      "cell_type": "code",
      "metadata": {
        "id": "ltTJmpQx3vml",
        "colab_type": "code",
        "colab": {}
      },
      "source": [
        "input_func = tf.estimator.inputs.numpy_input_fn({'x':X_train}, y_train, batch_size=1, num_epochs=2000, shuffle=True)"
      ],
      "execution_count": 0,
      "outputs": []
    },
    {
      "cell_type": "markdown",
      "metadata": {
        "id": "4j843dxx4E2l",
        "colab_type": "text"
      },
      "source": [
        "### 5.6. Set up Estimator Training Inputs"
      ]
    },
    {
      "cell_type": "code",
      "metadata": {
        "id": "SycfqyANooau",
        "colab_type": "code",
        "colab": {}
      },
      "source": [
        "train_input_func = tf.estimator.inputs.numpy_input_fn(X_train, y_train, batch_size=1, num_epochs=1000, shuffle=False)"
      ],
      "execution_count": 0,
      "outputs": []
    },
    {
      "cell_type": "markdown",
      "metadata": {
        "id": "JdMvuA7H4PhQ",
        "colab_type": "text"
      },
      "source": [
        "### 5.7. Set up Estimator Test Inputs"
      ]
    },
    {
      "cell_type": "code",
      "metadata": {
        "id": "98jdiOdpn93l",
        "colab_type": "code",
        "colab": {}
      },
      "source": [
        "eval_input_func = tf.estimator.inputs.numpy_input_fn({'x': X_test}, y_test, batch_size=1, num_epochs=1, shuffle=False)"
      ],
      "execution_count": 0,
      "outputs": []
    },
    {
      "cell_type": "markdown",
      "metadata": {
        "id": "52ZW_Ya94VpS",
        "colab_type": "text"
      },
      "source": [
        "## 6. Build Model\n",
        "\n",
        "### 6.1. Define DNN Regressor Model"
      ]
    },
    {
      "cell_type": "code",
      "metadata": {
        "id": "SD6FGMnxqMlw",
        "colab_type": "code",
        "outputId": "41b7b1c6-84af-429c-bb9f-b7fcfd2c4dc8",
        "colab": {
          "base_uri": "https://localhost:8080/",
          "height": 190
        }
      },
      "source": [
        "dnn_model = tf.estimator.DNNRegressor(hidden_units=[5,3],feature_columns=feat_cols, optimizer='Adam')"
      ],
      "execution_count": 0,
      "outputs": [
        {
          "output_type": "stream",
          "text": [
            "INFO:tensorflow:Using default config.\n",
            "WARNING:tensorflow:Using temporary folder as model directory: /tmp/tmp91evkezl\n",
            "INFO:tensorflow:Using config: {'_model_dir': '/tmp/tmp91evkezl', '_tf_random_seed': None, '_save_summary_steps': 100, '_save_checkpoints_steps': None, '_save_checkpoints_secs': 600, '_session_config': allow_soft_placement: true\n",
            "graph_options {\n",
            "  rewrite_options {\n",
            "    meta_optimizer_iterations: ONE\n",
            "  }\n",
            "}\n",
            ", '_keep_checkpoint_max': 5, '_keep_checkpoint_every_n_hours': 10000, '_log_step_count_steps': 100, '_train_distribute': None, '_device_fn': None, '_protocol': None, '_eval_distribute': None, '_experimental_distribute': None, '_service': None, '_cluster_spec': <tensorflow.python.training.server_lib.ClusterSpec object at 0x7f025db8fbe0>, '_task_type': 'worker', '_task_id': 0, '_global_id_in_cluster': 0, '_master': '', '_evaluation_master': '', '_is_chief': True, '_num_ps_replicas': 0, '_num_worker_replicas': 1}\n"
          ],
          "name": "stdout"
        }
      ]
    },
    {
      "cell_type": "markdown",
      "metadata": {
        "id": "uyQarjeZ4jYR",
        "colab_type": "text"
      },
      "source": [
        "### 6.2. Train the DNN Regressor Estimator"
      ]
    },
    {
      "cell_type": "code",
      "metadata": {
        "id": "uStdiTnUCBiW",
        "colab_type": "code",
        "outputId": "df3058e0-d779-4576-9fc1-976a531bc785",
        "colab": {
          "base_uri": "https://localhost:8080/",
          "height": 850
        }
      },
      "source": [
        "dnn_model.train(input_fn=input_func, steps=2000)"
      ],
      "execution_count": 0,
      "outputs": [
        {
          "output_type": "stream",
          "text": [
            "INFO:tensorflow:Calling model_fn.\n",
            "INFO:tensorflow:Done calling model_fn.\n",
            "INFO:tensorflow:Create CheckpointSaverHook.\n",
            "INFO:tensorflow:Graph was finalized.\n",
            "INFO:tensorflow:Running local_init_op.\n",
            "INFO:tensorflow:Done running local_init_op.\n",
            "INFO:tensorflow:Saving checkpoints for 0 into /tmp/tmp91evkezl/model.ckpt.\n",
            "INFO:tensorflow:loss = 278.37955, step = 1\n",
            "INFO:tensorflow:global_step/sec: 561.019\n",
            "INFO:tensorflow:loss = 27.345854, step = 101 (0.180 sec)\n",
            "INFO:tensorflow:global_step/sec: 816.737\n",
            "INFO:tensorflow:loss = 14.871847, step = 201 (0.124 sec)\n",
            "INFO:tensorflow:global_step/sec: 394.74\n",
            "INFO:tensorflow:loss = 31.014465, step = 301 (0.257 sec)\n",
            "INFO:tensorflow:global_step/sec: 787.965\n",
            "INFO:tensorflow:loss = 14.534007, step = 401 (0.123 sec)\n",
            "INFO:tensorflow:global_step/sec: 792.667\n",
            "INFO:tensorflow:loss = 27.826647, step = 501 (0.126 sec)\n",
            "INFO:tensorflow:global_step/sec: 807.381\n",
            "INFO:tensorflow:loss = 1.188221, step = 601 (0.123 sec)\n",
            "INFO:tensorflow:global_step/sec: 853.881\n",
            "INFO:tensorflow:loss = 20.752268, step = 701 (0.118 sec)\n",
            "INFO:tensorflow:global_step/sec: 936.329\n",
            "INFO:tensorflow:loss = 9.894903, step = 801 (0.107 sec)\n",
            "INFO:tensorflow:global_step/sec: 820.118\n",
            "INFO:tensorflow:loss = 2.126471, step = 901 (0.126 sec)\n",
            "INFO:tensorflow:global_step/sec: 712.164\n",
            "INFO:tensorflow:loss = 5.354716, step = 1001 (0.139 sec)\n",
            "INFO:tensorflow:global_step/sec: 870.061\n",
            "INFO:tensorflow:loss = 116.45697, step = 1101 (0.112 sec)\n",
            "INFO:tensorflow:global_step/sec: 770.029\n",
            "INFO:tensorflow:loss = 2.129718, step = 1201 (0.131 sec)\n",
            "INFO:tensorflow:global_step/sec: 794.889\n",
            "INFO:tensorflow:loss = 1.8309127, step = 1301 (0.124 sec)\n",
            "INFO:tensorflow:global_step/sec: 813.731\n",
            "INFO:tensorflow:loss = 37.208168, step = 1401 (0.122 sec)\n",
            "INFO:tensorflow:global_step/sec: 799.901\n",
            "INFO:tensorflow:loss = 31.959557, step = 1501 (0.125 sec)\n",
            "INFO:tensorflow:global_step/sec: 826.826\n",
            "INFO:tensorflow:loss = 129.39423, step = 1601 (0.121 sec)\n",
            "INFO:tensorflow:global_step/sec: 772.167\n",
            "INFO:tensorflow:loss = 22.695187, step = 1701 (0.129 sec)\n",
            "INFO:tensorflow:global_step/sec: 761.799\n",
            "INFO:tensorflow:loss = 3.2644465, step = 1801 (0.135 sec)\n",
            "INFO:tensorflow:global_step/sec: 778.67\n",
            "INFO:tensorflow:loss = 5.058801, step = 1901 (0.125 sec)\n",
            "INFO:tensorflow:Saving checkpoints for 2000 into /tmp/tmp91evkezl/model.ckpt.\n",
            "INFO:tensorflow:Loss for final step: 11.818413.\n"
          ],
          "name": "stdout"
        },
        {
          "output_type": "execute_result",
          "data": {
            "text/plain": [
              "<tensorflow_estimator.python.estimator.canned.dnn.DNNRegressor at 0x7f025db8f630>"
            ]
          },
          "metadata": {
            "tags": []
          },
          "execution_count": 741
        }
      ]
    },
    {
      "cell_type": "markdown",
      "metadata": {
        "id": "9cNwDf6S4qOb",
        "colab_type": "text"
      },
      "source": [
        "## 7. Evaluate the Model"
      ]
    },
    {
      "cell_type": "code",
      "metadata": {
        "id": "0PCIKwAJCFY2",
        "colab_type": "code",
        "outputId": "7d34f153-39bf-4e71-9d33-0c67d8c4ae92",
        "colab": {
          "base_uri": "https://localhost:8080/",
          "height": 272
        }
      },
      "source": [
        "dnn_model.evaluate(input_fn=eval_input_func)"
      ],
      "execution_count": 0,
      "outputs": [
        {
          "output_type": "stream",
          "text": [
            "INFO:tensorflow:Calling model_fn.\n",
            "INFO:tensorflow:Done calling model_fn.\n",
            "INFO:tensorflow:Starting evaluation at 2019-05-22T19:02:45Z\n",
            "INFO:tensorflow:Graph was finalized.\n",
            "INFO:tensorflow:Restoring parameters from /tmp/tmp91evkezl/model.ckpt-2000\n",
            "INFO:tensorflow:Running local_init_op.\n",
            "INFO:tensorflow:Done running local_init_op.\n",
            "INFO:tensorflow:Finished evaluation at 2019-05-22-19:02:45\n",
            "INFO:tensorflow:Saving dict for global step 2000: average_loss = 18.175835, global_step = 2000, label/mean = 21.701962, loss = 18.175835, prediction/mean = 23.492506\n",
            "INFO:tensorflow:Saving 'checkpoint_path' summary for global step 2000: /tmp/tmp91evkezl/model.ckpt-2000\n"
          ],
          "name": "stdout"
        },
        {
          "output_type": "execute_result",
          "data": {
            "text/plain": [
              "{'average_loss': 18.175835,\n",
              " 'global_step': 2000,\n",
              " 'label/mean': 21.701962,\n",
              " 'loss': 18.175835,\n",
              " 'prediction/mean': 23.492506}"
            ]
          },
          "metadata": {
            "tags": []
          },
          "execution_count": 742
        }
      ]
    },
    {
      "cell_type": "markdown",
      "metadata": {
        "id": "HOrx8vV-4tzT",
        "colab_type": "text"
      },
      "source": [
        "### 7.1. Predictions"
      ]
    },
    {
      "cell_type": "code",
      "metadata": {
        "id": "_UCQeQSFCKFN",
        "colab_type": "code",
        "colab": {}
      },
      "source": [
        "predictions = dnn_model.predict(input_fn=eval_input_func)"
      ],
      "execution_count": 0,
      "outputs": []
    },
    {
      "cell_type": "code",
      "metadata": {
        "id": "bDe1qN81CM0n",
        "colab_type": "code",
        "outputId": "33e3d544-65d0-47ab-9989-9a37ed88ad4d",
        "colab": {
          "base_uri": "https://localhost:8080/",
          "height": 119
        }
      },
      "source": [
        "pred = list(predictions)"
      ],
      "execution_count": 0,
      "outputs": [
        {
          "output_type": "stream",
          "text": [
            "INFO:tensorflow:Calling model_fn.\n",
            "INFO:tensorflow:Done calling model_fn.\n",
            "INFO:tensorflow:Graph was finalized.\n",
            "INFO:tensorflow:Restoring parameters from /tmp/tmp91evkezl/model.ckpt-2000\n",
            "INFO:tensorflow:Running local_init_op.\n",
            "INFO:tensorflow:Done running local_init_op.\n"
          ],
          "name": "stdout"
        }
      ]
    },
    {
      "cell_type": "markdown",
      "metadata": {
        "id": "3D5WOri85OP9",
        "colab_type": "text"
      },
      "source": [
        "### 7.2. Get Predicted Values"
      ]
    },
    {
      "cell_type": "code",
      "metadata": {
        "id": "8JOcHJznCRTs",
        "colab_type": "code",
        "outputId": "59eaa67c-4e9c-4a71-c49c-465741deeb4c",
        "colab": {
          "base_uri": "https://localhost:8080/",
          "height": 119
        }
      },
      "source": [
        "predicted_vals = []\n",
        "\n",
        "for pred in dnn_model.predict(input_fn=eval_input_func):\n",
        "    predicted_vals.append(pred['predictions'])"
      ],
      "execution_count": 0,
      "outputs": [
        {
          "output_type": "stream",
          "text": [
            "INFO:tensorflow:Calling model_fn.\n",
            "INFO:tensorflow:Done calling model_fn.\n",
            "INFO:tensorflow:Graph was finalized.\n",
            "INFO:tensorflow:Restoring parameters from /tmp/tmp91evkezl/model.ckpt-2000\n",
            "INFO:tensorflow:Running local_init_op.\n",
            "INFO:tensorflow:Done running local_init_op.\n"
          ],
          "name": "stdout"
        }
      ]
    },
    {
      "cell_type": "code",
      "metadata": {
        "id": "Eo6QvSxzCSjV",
        "colab_type": "code",
        "outputId": "9d7cf357-457f-4fad-f66e-b0ce0c72dd72",
        "colab": {
          "base_uri": "https://localhost:8080/",
          "height": 54
        }
      },
      "source": [
        "print(predicted_vals)"
      ],
      "execution_count": 0,
      "outputs": [
        {
          "output_type": "stream",
          "text": [
            "[array([24.161057], dtype=float32), array([22.168526], dtype=float32), array([22.517918], dtype=float32), array([14.887156], dtype=float32), array([16.731007], dtype=float32), array([25.640305], dtype=float32), array([14.677034], dtype=float32), array([15.385169], dtype=float32), array([15.48018], dtype=float32), array([17.276558], dtype=float32), array([18.961937], dtype=float32), array([24.169746], dtype=float32), array([23.771873], dtype=float32), array([14.163431], dtype=float32), array([29.586006], dtype=float32), array([27.14098], dtype=float32), array([20.245157], dtype=float32), array([18.265371], dtype=float32), array([24.628494], dtype=float32), array([28.037624], dtype=float32), array([25.407795], dtype=float32), array([16.91374], dtype=float32), array([22.301388], dtype=float32), array([28.156616], dtype=float32), array([18.059528], dtype=float32), array([13.769519], dtype=float32), array([29.142403], dtype=float32), array([16.87007], dtype=float32), array([42.217102], dtype=float32), array([27.535366], dtype=float32), array([25.085762], dtype=float32), array([32.8545], dtype=float32), array([23.47546], dtype=float32), array([25.377201], dtype=float32), array([53.17633], dtype=float32), array([41.492905], dtype=float32), array([15.87666], dtype=float32), array([26.483387], dtype=float32), array([13.769519], dtype=float32), array([34.386868], dtype=float32), array([13.769519], dtype=float32), array([13.769519], dtype=float32), array([14.159582], dtype=float32), array([26.086266], dtype=float32), array([18.47762], dtype=float32), array([30.1237], dtype=float32), array([13.769519], dtype=float32), array([13.769519], dtype=float32), array([25.316887], dtype=float32), array([23.628525], dtype=float32), array([30.086205], dtype=float32), array([19.227463], dtype=float32), array([52.331905], dtype=float32), array([26.641315], dtype=float32), array([36.88108], dtype=float32), array([15.251518], dtype=float32), array([15.805225], dtype=float32), array([35.844177], dtype=float32), array([23.310825], dtype=float32), array([33.43884], dtype=float32), array([13.813866], dtype=float32), array([14.82829], dtype=float32), array([26.552444], dtype=float32), array([25.617157], dtype=float32), array([13.769519], dtype=float32), array([32.672184], dtype=float32), array([21.44397], dtype=float32), array([25.203934], dtype=float32), array([13.769519], dtype=float32), array([20.506477], dtype=float32), array([18.32247], dtype=float32), array([29.350708], dtype=float32), array([46.142826], dtype=float32), array([14.636409], dtype=float32), array([18.176493], dtype=float32), array([39.58088], dtype=float32), array([17.909698], dtype=float32), array([22.735275], dtype=float32), array([17.36595], dtype=float32), array([24.390274], dtype=float32), array([31.650707], dtype=float32), array([19.858662], dtype=float32), array([17.404907], dtype=float32), array([37.028526], dtype=float32), array([31.28067], dtype=float32), array([23.852936], dtype=float32), array([15.965207], dtype=float32), array([15.606415], dtype=float32), array([17.944366], dtype=float32), array([26.937046], dtype=float32), array([27.048313], dtype=float32), array([14.709488], dtype=float32), array([16.689331], dtype=float32), array([13.769519], dtype=float32), array([21.153717], dtype=float32), array([19.09206], dtype=float32), array([19.5849], dtype=float32), array([23.50296], dtype=float32), array([21.068764], dtype=float32), array([17.531284], dtype=float32), array([23.032188], dtype=float32), array([52.798294], dtype=float32)]\n"
          ],
          "name": "stdout"
        }
      ]
    },
    {
      "cell_type": "markdown",
      "metadata": {
        "id": "14yAOFXG5XLv",
        "colab_type": "text"
      },
      "source": [
        "## 8. Performance Evalution\n",
        "\n",
        "### 8.1 Import Library"
      ]
    },
    {
      "cell_type": "code",
      "metadata": {
        "id": "GYik0htsCWgd",
        "colab_type": "code",
        "colab": {}
      },
      "source": [
        "from sklearn.metrics import mean_squared_error\n"
      ],
      "execution_count": 0,
      "outputs": []
    },
    {
      "cell_type": "markdown",
      "metadata": {
        "id": "ftpPr6gF5qWr",
        "colab_type": "text"
      },
      "source": [
        "### 8.2. Calculate the Mean Squared Error"
      ]
    },
    {
      "cell_type": "code",
      "metadata": {
        "id": "Ii3pxOz_5pvm",
        "colab_type": "code",
        "outputId": "2d3f8b7a-6422-4abc-f258-89255024ca54",
        "colab": {
          "base_uri": "https://localhost:8080/",
          "height": 34
        }
      },
      "source": [
        "mse = mean_squared_error(predicted_vals, y_test)\n",
        "print('Mean Squared Error [DNNRegrssor]: ',mse)"
      ],
      "execution_count": 0,
      "outputs": [
        {
          "output_type": "stream",
          "text": [
            "Mean Squared Error [DNNRegrssor]:  18.17583817196329\n"
          ],
          "name": "stdout"
        }
      ]
    },
    {
      "cell_type": "markdown",
      "metadata": {
        "id": "Tqs_ZMOzzeZS",
        "colab_type": "text"
      },
      "source": [
        "##  9. Improve the Performance by changing Parameters\n",
        "\n",
        "### 9.1.  Redefine DNN Regressor Model"
      ]
    },
    {
      "cell_type": "code",
      "metadata": {
        "id": "HUIHQQE7WBaN",
        "colab_type": "code",
        "outputId": "016360f5-d0e8-46cc-f60d-e3750b5d4fdf",
        "colab": {
          "base_uri": "https://localhost:8080/",
          "height": 190
        }
      },
      "source": [
        "dnn_model_imp = tf.estimator.DNNRegressor(hidden_units=[10,5,3],feature_columns=feat_cols, optimizer=tf.train.ProximalAdagradOptimizer(\n",
        "      learning_rate=0.1,\n",
        "      l1_regularization_strength=0.001\n",
        "    ))"
      ],
      "execution_count": 0,
      "outputs": [
        {
          "output_type": "stream",
          "text": [
            "INFO:tensorflow:Using default config.\n",
            "WARNING:tensorflow:Using temporary folder as model directory: /tmp/tmpsjf_64c2\n",
            "INFO:tensorflow:Using config: {'_model_dir': '/tmp/tmpsjf_64c2', '_tf_random_seed': None, '_save_summary_steps': 100, '_save_checkpoints_steps': None, '_save_checkpoints_secs': 600, '_session_config': allow_soft_placement: true\n",
            "graph_options {\n",
            "  rewrite_options {\n",
            "    meta_optimizer_iterations: ONE\n",
            "  }\n",
            "}\n",
            ", '_keep_checkpoint_max': 5, '_keep_checkpoint_every_n_hours': 10000, '_log_step_count_steps': 100, '_train_distribute': None, '_device_fn': None, '_protocol': None, '_eval_distribute': None, '_experimental_distribute': None, '_service': None, '_cluster_spec': <tensorflow.python.training.server_lib.ClusterSpec object at 0x7f025dbbf080>, '_task_type': 'worker', '_task_id': 0, '_global_id_in_cluster': 0, '_master': '', '_evaluation_master': '', '_is_chief': True, '_num_ps_replicas': 0, '_num_worker_replicas': 1}\n"
          ],
          "name": "stdout"
        }
      ]
    },
    {
      "cell_type": "markdown",
      "metadata": {
        "id": "OvxTxFA76AlU",
        "colab_type": "text"
      },
      "source": [
        " ### 9.2. Re-train the DNN Regressor Estimator"
      ]
    },
    {
      "cell_type": "code",
      "metadata": {
        "id": "XgA87wxZrsWl",
        "colab_type": "code",
        "outputId": "4fa8e31e-c038-4652-b95d-fbc108505419",
        "colab": {
          "base_uri": "https://localhost:8080/",
          "height": 850
        }
      },
      "source": [
        "dnn_model_imp.train(input_fn=input_func, steps=2000)"
      ],
      "execution_count": 0,
      "outputs": [
        {
          "output_type": "stream",
          "text": [
            "INFO:tensorflow:Calling model_fn.\n",
            "INFO:tensorflow:Done calling model_fn.\n",
            "INFO:tensorflow:Create CheckpointSaverHook.\n",
            "INFO:tensorflow:Graph was finalized.\n",
            "INFO:tensorflow:Running local_init_op.\n",
            "INFO:tensorflow:Done running local_init_op.\n",
            "INFO:tensorflow:Saving checkpoints for 0 into /tmp/tmpsjf_64c2/model.ckpt.\n",
            "INFO:tensorflow:loss = 516.15045, step = 1\n",
            "INFO:tensorflow:global_step/sec: 590.68\n",
            "INFO:tensorflow:loss = 33.568157, step = 101 (0.173 sec)\n",
            "INFO:tensorflow:global_step/sec: 768.469\n",
            "INFO:tensorflow:loss = 84.73392, step = 201 (0.129 sec)\n",
            "INFO:tensorflow:global_step/sec: 824.451\n",
            "INFO:tensorflow:loss = 90.35194, step = 301 (0.123 sec)\n",
            "INFO:tensorflow:global_step/sec: 826.15\n",
            "INFO:tensorflow:loss = 7.699654, step = 401 (0.123 sec)\n",
            "INFO:tensorflow:global_step/sec: 784.394\n",
            "INFO:tensorflow:loss = 36.362152, step = 501 (0.124 sec)\n",
            "INFO:tensorflow:global_step/sec: 780.61\n",
            "INFO:tensorflow:loss = 0.37279916, step = 601 (0.132 sec)\n",
            "INFO:tensorflow:global_step/sec: 817.517\n",
            "INFO:tensorflow:loss = 4.4022026, step = 701 (0.119 sec)\n",
            "INFO:tensorflow:global_step/sec: 876.022\n",
            "INFO:tensorflow:loss = 58.18368, step = 801 (0.113 sec)\n",
            "INFO:tensorflow:global_step/sec: 825.103\n",
            "INFO:tensorflow:loss = 48.730114, step = 901 (0.125 sec)\n",
            "INFO:tensorflow:global_step/sec: 815.443\n",
            "INFO:tensorflow:loss = 18.734184, step = 1001 (0.120 sec)\n",
            "INFO:tensorflow:global_step/sec: 850.753\n",
            "INFO:tensorflow:loss = 0.55953705, step = 1101 (0.118 sec)\n",
            "INFO:tensorflow:global_step/sec: 822.947\n",
            "INFO:tensorflow:loss = 42.57419, step = 1201 (0.121 sec)\n",
            "INFO:tensorflow:global_step/sec: 813.591\n",
            "INFO:tensorflow:loss = 32.762638, step = 1301 (0.125 sec)\n",
            "INFO:tensorflow:global_step/sec: 758.214\n",
            "INFO:tensorflow:loss = 93.07435, step = 1401 (0.131 sec)\n",
            "INFO:tensorflow:global_step/sec: 809.828\n",
            "INFO:tensorflow:loss = 0.5352285, step = 1501 (0.122 sec)\n",
            "INFO:tensorflow:global_step/sec: 844.014\n",
            "INFO:tensorflow:loss = 0.81401426, step = 1601 (0.122 sec)\n",
            "INFO:tensorflow:global_step/sec: 771.288\n",
            "INFO:tensorflow:loss = 0.024972739, step = 1701 (0.135 sec)\n",
            "INFO:tensorflow:global_step/sec: 767.889\n",
            "INFO:tensorflow:loss = 30.81041, step = 1801 (0.121 sec)\n",
            "INFO:tensorflow:global_step/sec: 801.621\n",
            "INFO:tensorflow:loss = 5.0762424, step = 1901 (0.128 sec)\n",
            "INFO:tensorflow:Saving checkpoints for 2000 into /tmp/tmpsjf_64c2/model.ckpt.\n",
            "INFO:tensorflow:Loss for final step: 0.6568842.\n"
          ],
          "name": "stdout"
        },
        {
          "output_type": "execute_result",
          "data": {
            "text/plain": [
              "<tensorflow_estimator.python.estimator.canned.dnn.DNNRegressor at 0x7f025dbdce48>"
            ]
          },
          "metadata": {
            "tags": []
          },
          "execution_count": 750
        }
      ]
    },
    {
      "cell_type": "markdown",
      "metadata": {
        "id": "uI10nvHa6HAC",
        "colab_type": "text"
      },
      "source": [
        "### 9.3. Re-evaluate the Model"
      ]
    },
    {
      "cell_type": "code",
      "metadata": {
        "id": "Q_RWbko7r1Xz",
        "colab_type": "code",
        "outputId": "d7f2a52f-c0da-43a2-fbf0-4e708850e5f0",
        "colab": {
          "base_uri": "https://localhost:8080/",
          "height": 272
        }
      },
      "source": [
        "dnn_model_imp.evaluate(input_fn=eval_input_func)"
      ],
      "execution_count": 0,
      "outputs": [
        {
          "output_type": "stream",
          "text": [
            "INFO:tensorflow:Calling model_fn.\n",
            "INFO:tensorflow:Done calling model_fn.\n",
            "INFO:tensorflow:Starting evaluation at 2019-05-22T19:02:51Z\n",
            "INFO:tensorflow:Graph was finalized.\n",
            "INFO:tensorflow:Restoring parameters from /tmp/tmpsjf_64c2/model.ckpt-2000\n",
            "INFO:tensorflow:Running local_init_op.\n",
            "INFO:tensorflow:Done running local_init_op.\n",
            "INFO:tensorflow:Finished evaluation at 2019-05-22-19:02:52\n",
            "INFO:tensorflow:Saving dict for global step 2000: average_loss = 16.473116, global_step = 2000, label/mean = 21.701962, loss = 16.473116, prediction/mean = 22.228212\n",
            "INFO:tensorflow:Saving 'checkpoint_path' summary for global step 2000: /tmp/tmpsjf_64c2/model.ckpt-2000\n"
          ],
          "name": "stdout"
        },
        {
          "output_type": "execute_result",
          "data": {
            "text/plain": [
              "{'average_loss': 16.473116,\n",
              " 'global_step': 2000,\n",
              " 'label/mean': 21.701962,\n",
              " 'loss': 16.473116,\n",
              " 'prediction/mean': 22.228212}"
            ]
          },
          "metadata": {
            "tags": []
          },
          "execution_count": 751
        }
      ]
    },
    {
      "cell_type": "markdown",
      "metadata": {
        "id": "WnPOUtS06L5k",
        "colab_type": "text"
      },
      "source": [
        "### 9.4. New Predictions"
      ]
    },
    {
      "cell_type": "code",
      "metadata": {
        "id": "vaEcCQhXr5ky",
        "colab_type": "code",
        "colab": {}
      },
      "source": [
        "new_predictions = dnn_model_imp.predict(input_fn=eval_input_func)"
      ],
      "execution_count": 0,
      "outputs": []
    },
    {
      "cell_type": "code",
      "metadata": {
        "id": "kNcnMh7er_NO",
        "colab_type": "code",
        "outputId": "2dc2fc9b-4a7c-473a-c92f-8105e727b162",
        "colab": {
          "base_uri": "https://localhost:8080/",
          "height": 119
        }
      },
      "source": [
        "new_pred = list(new_predictions)"
      ],
      "execution_count": 0,
      "outputs": [
        {
          "output_type": "stream",
          "text": [
            "INFO:tensorflow:Calling model_fn.\n",
            "INFO:tensorflow:Done calling model_fn.\n",
            "INFO:tensorflow:Graph was finalized.\n",
            "INFO:tensorflow:Restoring parameters from /tmp/tmpsjf_64c2/model.ckpt-2000\n",
            "INFO:tensorflow:Running local_init_op.\n",
            "INFO:tensorflow:Done running local_init_op.\n"
          ],
          "name": "stdout"
        }
      ]
    },
    {
      "cell_type": "markdown",
      "metadata": {
        "id": "NKesZ7O46SNP",
        "colab_type": "text"
      },
      "source": [
        "### 9.5. New Predicted values"
      ]
    },
    {
      "cell_type": "code",
      "metadata": {
        "id": "4kgsit2fsEA3",
        "colab_type": "code",
        "outputId": "82618fc9-d6a7-419b-b01a-4985f3407b85",
        "colab": {
          "base_uri": "https://localhost:8080/",
          "height": 119
        }
      },
      "source": [
        "new_predicted_vals = []\n",
        "\n",
        "for new_pred in dnn_model_imp.predict(input_fn=eval_input_func):\n",
        "    new_predicted_vals.append(new_pred['predictions'])"
      ],
      "execution_count": 0,
      "outputs": [
        {
          "output_type": "stream",
          "text": [
            "INFO:tensorflow:Calling model_fn.\n",
            "INFO:tensorflow:Done calling model_fn.\n",
            "INFO:tensorflow:Graph was finalized.\n",
            "INFO:tensorflow:Restoring parameters from /tmp/tmpsjf_64c2/model.ckpt-2000\n",
            "INFO:tensorflow:Running local_init_op.\n",
            "INFO:tensorflow:Done running local_init_op.\n"
          ],
          "name": "stdout"
        }
      ]
    },
    {
      "cell_type": "code",
      "metadata": {
        "id": "bC-hdJNqsOms",
        "colab_type": "code",
        "outputId": "58d3f800-dbc8-4a67-a81f-169106d751a6",
        "colab": {
          "base_uri": "https://localhost:8080/",
          "height": 54
        }
      },
      "source": [
        "print(new_predicted_vals)"
      ],
      "execution_count": 0,
      "outputs": [
        {
          "output_type": "stream",
          "text": [
            "[array([22.968992], dtype=float32), array([18.19383], dtype=float32), array([19.70009], dtype=float32), array([17.335318], dtype=float32), array([19.628239], dtype=float32), array([23.19961], dtype=float32), array([14.620789], dtype=float32), array([13.659842], dtype=float32), array([17.126797], dtype=float32), array([15.946292], dtype=float32), array([18.318806], dtype=float32), array([26.773472], dtype=float32), array([23.169434], dtype=float32), array([13.317824], dtype=float32), array([36.002567], dtype=float32), array([24.681437], dtype=float32), array([17.331697], dtype=float32), array([15.443076], dtype=float32), array([20.445696], dtype=float32), array([33.89844], dtype=float32), array([30.25496], dtype=float32), array([16.963692], dtype=float32), array([19.985613], dtype=float32), array([28.58043], dtype=float32), array([16.304296], dtype=float32), array([10.426877], dtype=float32), array([27.521208], dtype=float32), array([13.336765], dtype=float32), array([33.581894], dtype=float32), array([26.836012], dtype=float32), array([20.990181], dtype=float32), array([29.636929], dtype=float32), array([24.261152], dtype=float32), array([23.031475], dtype=float32), array([47.68193], dtype=float32), array([33.38741], dtype=float32), array([17.421446], dtype=float32), array([22.8356], dtype=float32), array([8.476181], dtype=float32), array([36.169914], dtype=float32), array([8.965393], dtype=float32), array([8.183886], dtype=float32), array([15.023232], dtype=float32), array([24.400246], dtype=float32), array([18.486883], dtype=float32), array([25.477112], dtype=float32), array([11.301052], dtype=float32), array([11.717287], dtype=float32), array([30.394495], dtype=float32), array([26.48325], dtype=float32), array([27.762695], dtype=float32), array([17.138075], dtype=float32), array([45.92232], dtype=float32), array([25.959024], dtype=float32), array([37.575775], dtype=float32), array([16.042612], dtype=float32), array([15.192106], dtype=float32), array([35.911816], dtype=float32), array([21.041006], dtype=float32), array([30.268175], dtype=float32), array([4.6992807], dtype=float32), array([16.313103], dtype=float32), array([28.102312], dtype=float32), array([22.417107], dtype=float32), array([14.079932], dtype=float32), array([26.782356], dtype=float32), array([19.379139], dtype=float32), array([23.13767], dtype=float32), array([10.394599], dtype=float32), array([17.122896], dtype=float32), array([14.931112], dtype=float32), array([27.336552], dtype=float32), array([37.588406], dtype=float32), array([16.39833], dtype=float32), array([16.365063], dtype=float32), array([43.2159], dtype=float32), array([16.849073], dtype=float32), array([21.988777], dtype=float32), array([15.674999], dtype=float32), array([22.471827], dtype=float32), array([37.288628], dtype=float32), array([19.113033], dtype=float32), array([16.93984], dtype=float32), array([34.906784], dtype=float32), array([35.634624], dtype=float32), array([23.513964], dtype=float32), array([15.480031], dtype=float32), array([16.895945], dtype=float32), array([16.985224], dtype=float32), array([23.533102], dtype=float32), array([30.526136], dtype=float32), array([14.751488], dtype=float32), array([13.345136], dtype=float32), array([13.11359], dtype=float32), array([19.84919], dtype=float32), array([16.925196], dtype=float32), array([16.256432], dtype=float32), array([22.571247], dtype=float32), array([21.79242], dtype=float32), array([16.742126], dtype=float32), array([22.932522], dtype=float32), array([50.23926], dtype=float32)]\n"
          ],
          "name": "stdout"
        }
      ]
    },
    {
      "cell_type": "markdown",
      "metadata": {
        "id": "MHi_72Yw6dlz",
        "colab_type": "text"
      },
      "source": [
        "### 9.6. Re-calculate the Mean Squared Error"
      ]
    },
    {
      "cell_type": "code",
      "metadata": {
        "id": "h6yNAKprsSYc",
        "colab_type": "code",
        "outputId": "e7487fee-39bb-4a8d-9dba-05e6a23b6cf2",
        "colab": {
          "base_uri": "https://localhost:8080/",
          "height": 34
        }
      },
      "source": [
        "new_mse = mean_squared_error(new_predicted_vals, y_test)\n",
        "print('Improved Mean Squared Error [DNNRegrssor]: ',new_mse)"
      ],
      "execution_count": 0,
      "outputs": [
        {
          "output_type": "stream",
          "text": [
            "Improved Mean Squared Error [DNNRegrssor]:  16.47311791925539\n"
          ],
          "name": "stdout"
        }
      ]
    },
    {
      "cell_type": "markdown",
      "metadata": {
        "id": "8V_7btCO6kZG",
        "colab_type": "text"
      },
      "source": [
        "## 10. Compare Performace"
      ]
    },
    {
      "cell_type": "code",
      "metadata": {
        "id": "iNYhGDn9v4G5",
        "colab_type": "code",
        "outputId": "c52d9205-5caf-4c2b-d517-fbeed67e72bf",
        "colab": {
          "base_uri": "https://localhost:8080/",
          "height": 51
        }
      },
      "source": [
        "print('Old Mean Squared Error: ',mse)\n",
        "print('New Mean Squared Error: ',new_mse)"
      ],
      "execution_count": 0,
      "outputs": [
        {
          "output_type": "stream",
          "text": [
            "Old Mean Squared Error:  18.17583817196329\n",
            "New Mean Squared Error:  16.47311791925539\n"
          ],
          "name": "stdout"
        }
      ]
    }
  ]
}